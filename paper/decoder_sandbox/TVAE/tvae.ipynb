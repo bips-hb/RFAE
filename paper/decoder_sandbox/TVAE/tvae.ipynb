{
 "cells": [
  {
   "cell_type": "code",
   "execution_count": 6,
   "id": "e864aca7",
   "metadata": {
    "executionInfo": {
     "elapsed": 11502,
     "status": "ok",
     "timestamp": 1745340503332,
     "user": {
      "displayName": "Binh Vu Duc",
      "userId": "00540030101233471776"
     },
     "user_tz": -60
    },
    "id": "e864aca7"
   },
   "outputs": [],
   "source": [
    "from ctgan import TVAE\n",
    "import pandas as pd\n",
    "import torch"
   ]
  },
  {
   "cell_type": "code",
   "execution_count": 2,
   "id": "43d0aa7c",
   "metadata": {
    "colab": {
     "base_uri": "https://localhost:8080/"
    },
    "executionInfo": {
     "elapsed": 5,
     "status": "ok",
     "timestamp": 1745340506573,
     "user": {
      "displayName": "Binh Vu Duc",
      "userId": "00540030101233471776"
     },
     "user_tz": -60
    },
    "id": "43d0aa7c",
    "outputId": "53bef93a-b21a-49d5-836b-af98fb87a047",
    "scrolled": true
   },
   "outputs": [
    {
     "name": "stdout",
     "output_type": "stream",
     "text": [
      "/home/binhducvu/tree_kernels/decoder_sandbox/original_data\n"
     ]
    }
   ],
   "source": [
    "%cd ../original_data"
   ]
  },
  {
   "cell_type": "code",
   "execution_count": 3,
   "id": "c4e6c597",
   "metadata": {
    "executionInfo": {
     "elapsed": 2,
     "status": "ok",
     "timestamp": 1745340507954,
     "user": {
      "displayName": "Binh Vu Duc",
      "userId": "00540030101233471776"
     },
     "user_tz": -60
    },
    "id": "c4e6c597"
   },
   "outputs": [],
   "source": [
    "def tvae(dat, latent_rate = 0.2, runs=10, drop_index=True):\n",
    "    if drop_index == True:\n",
    "        trn = pd.read_csv(dat + '_trn.csv').iloc[:, 1:]\n",
    "        tst = pd.read_csv(dat + '_tst.csv').iloc[:, 1:]\n",
    "    else:\n",
    "        trn = pd.read_csv(dat + '_trn.csv')\n",
    "        tst = pd.read_csv(dat + '_tst.csv')\n",
    "    trn = trn[trn['y']==1].drop('y', axis=1)\n",
    "    latent_layer = round(latent_rate * trn.shape[1])\n",
    "    discrete_columns = trn.columns[trn.dtypes == 'object']\n",
    "\n",
    "    for i in range(runs):\n",
    "        TVAE_model = TVAE(embedding_dim = latent_layer)\n",
    "        TVAE_model.fit(trn, discrete_columns)\n",
    "\n",
    "        transformed = TVAE_model.transformer.transform(tst)\n",
    "        transformed = torch.from_numpy(transformed.astype('float32')).to('cuda:0')\n",
    "        mu, std, logvar = TVAE_model.encoder(transformed)\n",
    "        emb = mu\n",
    "\n",
    "        rec, sigmas = TVAE_model.decoder(emb)\n",
    "        tst_rec = torch.tanh(rec).detach().cpu().numpy()\n",
    "        tst_rec = TVAE_model.transformer.inverse_transform(tst_rec, sigmas.detach().cpu().numpy())\n",
    "\n",
    "        tst_rec.to_csv(\"../tvae_data/\" + dat + '/' + str(latent_rate) + '_run' + str(i+1) +  \".csv\", index=False)\n",
    "    print(\"Finished \" + dat)\n",
    "    return None"
   ]
  },
  {
   "cell_type": "code",
   "execution_count": 4,
   "id": "UTJO7D5SzAAY",
   "metadata": {
    "executionInfo": {
     "elapsed": 10,
     "status": "ok",
     "timestamp": 1745340509417,
     "user": {
      "displayName": "Binh Vu Duc",
      "userId": "00540030101233471776"
     },
     "user_tz": -60
    },
    "id": "UTJO7D5SzAAY"
   },
   "outputs": [],
   "source": [
    "compressions = [0.1, 0.2, 0.3, 0.4, 0.5, 0.6, 0.7, 0.8, 0.9, 1]"
   ]
  },
  {
   "cell_type": "code",
   "execution_count": null,
   "id": "WP5UT5QNzC-J",
   "metadata": {
    "colab": {
     "base_uri": "https://localhost:8080/"
    },
    "executionInfo": {
     "elapsed": 3178535,
     "status": "ok",
     "timestamp": 1745333578993,
     "user": {
      "displayName": "Binh Vu Duc",
      "userId": "00540030101233471776"
     },
     "user_tz": -60
    },
    "id": "WP5UT5QNzC-J",
    "outputId": "fa7f2bc5-d1cb-44b5-e940-da8f49b0d766"
   },
   "outputs": [
    {
     "name": "stdout",
     "output_type": "stream",
     "text": [
      "Finished abalone\n",
      "Finished abalone\n",
      "Finished abalone\n",
      "Finished abalone\n",
      "Finished abalone\n",
      "Finished abalone\n",
      "Finished abalone\n",
      "Finished abalone\n",
      "Finished abalone\n",
      "Finished abalone\n"
     ]
    }
   ],
   "source": [
    "for compression in compressions:\n",
    "    tvae('abalone', latent_rate = compression)"
   ]
  },
  {
   "cell_type": "code",
   "execution_count": null,
   "id": "6cc0fb5f",
   "metadata": {
    "colab": {
     "base_uri": "https://localhost:8080/",
     "height": 561
    },
    "executionInfo": {
     "elapsed": 2679,
     "status": "error",
     "timestamp": 1745333581677,
     "user": {
      "displayName": "Binh Vu Duc",
      "userId": "00540030101233471776"
     },
     "user_tz": -60
    },
    "id": "6cc0fb5f",
    "outputId": "ee6a24ab-4bb5-4896-e221-ccdf168e85d6"
   },
   "outputs": [
    {
     "ename": "KeyError",
     "evalue": "'y'",
     "output_type": "error",
     "traceback": [
      "\u001b[0;31m---------------------------------------------------------------------------\u001b[0m",
      "\u001b[0;31mKeyError\u001b[0m                                  Traceback (most recent call last)",
      "\u001b[0;32m/usr/local/lib/python3.11/dist-packages/pandas/core/indexes/base.py\u001b[0m in \u001b[0;36mget_loc\u001b[0;34m(self, key)\u001b[0m\n\u001b[1;32m   3804\u001b[0m         \u001b[0;32mtry\u001b[0m\u001b[0;34m:\u001b[0m\u001b[0;34m\u001b[0m\u001b[0;34m\u001b[0m\u001b[0m\n\u001b[0;32m-> 3805\u001b[0;31m             \u001b[0;32mreturn\u001b[0m \u001b[0mself\u001b[0m\u001b[0;34m.\u001b[0m\u001b[0m_engine\u001b[0m\u001b[0;34m.\u001b[0m\u001b[0mget_loc\u001b[0m\u001b[0;34m(\u001b[0m\u001b[0mcasted_key\u001b[0m\u001b[0;34m)\u001b[0m\u001b[0;34m\u001b[0m\u001b[0;34m\u001b[0m\u001b[0m\n\u001b[0m\u001b[1;32m   3806\u001b[0m         \u001b[0;32mexcept\u001b[0m \u001b[0mKeyError\u001b[0m \u001b[0;32mas\u001b[0m \u001b[0merr\u001b[0m\u001b[0;34m:\u001b[0m\u001b[0;34m\u001b[0m\u001b[0;34m\u001b[0m\u001b[0m\n",
      "\u001b[0;32mindex.pyx\u001b[0m in \u001b[0;36mpandas._libs.index.IndexEngine.get_loc\u001b[0;34m()\u001b[0m\n",
      "\u001b[0;32mindex.pyx\u001b[0m in \u001b[0;36mpandas._libs.index.IndexEngine.get_loc\u001b[0;34m()\u001b[0m\n",
      "\u001b[0;32mpandas/_libs/hashtable_class_helper.pxi\u001b[0m in \u001b[0;36mpandas._libs.hashtable.PyObjectHashTable.get_item\u001b[0;34m()\u001b[0m\n",
      "\u001b[0;32mpandas/_libs/hashtable_class_helper.pxi\u001b[0m in \u001b[0;36mpandas._libs.hashtable.PyObjectHashTable.get_item\u001b[0;34m()\u001b[0m\n",
      "\u001b[0;31mKeyError\u001b[0m: 'y'",
      "\nThe above exception was the direct cause of the following exception:\n",
      "\u001b[0;31mKeyError\u001b[0m                                  Traceback (most recent call last)",
      "\u001b[0;32m<ipython-input-21-3bfb447338bb>\u001b[0m in \u001b[0;36m<cell line: 0>\u001b[0;34m()\u001b[0m\n\u001b[1;32m      1\u001b[0m \u001b[0;32mfor\u001b[0m \u001b[0mcompression\u001b[0m \u001b[0;32min\u001b[0m \u001b[0mcompressions\u001b[0m\u001b[0;34m:\u001b[0m\u001b[0;34m\u001b[0m\u001b[0;34m\u001b[0m\u001b[0m\n\u001b[0;32m----> 2\u001b[0;31m     \u001b[0mtvae\u001b[0m\u001b[0;34m(\u001b[0m\u001b[0;34m'adult'\u001b[0m\u001b[0;34m,\u001b[0m \u001b[0mlatent_rate\u001b[0m \u001b[0;34m=\u001b[0m \u001b[0mcompression\u001b[0m\u001b[0;34m)\u001b[0m\u001b[0;34m\u001b[0m\u001b[0;34m\u001b[0m\u001b[0m\n\u001b[0m",
      "\u001b[0;32m<ipython-input-13-52b343cf7de8>\u001b[0m in \u001b[0;36mtvae\u001b[0;34m(dat, latent_rate, runs, drop_index)\u001b[0m\n\u001b[1;32m      6\u001b[0m         \u001b[0mtrn\u001b[0m \u001b[0;34m=\u001b[0m \u001b[0mpd\u001b[0m\u001b[0;34m.\u001b[0m\u001b[0mread_csv\u001b[0m\u001b[0;34m(\u001b[0m\u001b[0mdat\u001b[0m \u001b[0;34m+\u001b[0m \u001b[0;34m'_trn.csv'\u001b[0m\u001b[0;34m)\u001b[0m\u001b[0;34m\u001b[0m\u001b[0;34m\u001b[0m\u001b[0m\n\u001b[1;32m      7\u001b[0m         \u001b[0mtst\u001b[0m \u001b[0;34m=\u001b[0m \u001b[0mpd\u001b[0m\u001b[0;34m.\u001b[0m\u001b[0mread_csv\u001b[0m\u001b[0;34m(\u001b[0m\u001b[0mdat\u001b[0m \u001b[0;34m+\u001b[0m \u001b[0;34m'_tst.csv'\u001b[0m\u001b[0;34m)\u001b[0m\u001b[0;34m\u001b[0m\u001b[0;34m\u001b[0m\u001b[0m\n\u001b[0;32m----> 8\u001b[0;31m     \u001b[0mtrn\u001b[0m \u001b[0;34m=\u001b[0m \u001b[0mtrn\u001b[0m\u001b[0;34m[\u001b[0m\u001b[0mtrn\u001b[0m\u001b[0;34m[\u001b[0m\u001b[0;34m'y'\u001b[0m\u001b[0;34m]\u001b[0m\u001b[0;34m==\u001b[0m\u001b[0;36m1\u001b[0m\u001b[0;34m]\u001b[0m\u001b[0;34m.\u001b[0m\u001b[0mdrop\u001b[0m\u001b[0;34m(\u001b[0m\u001b[0;34m'y'\u001b[0m\u001b[0;34m,\u001b[0m \u001b[0maxis\u001b[0m\u001b[0;34m=\u001b[0m\u001b[0;36m1\u001b[0m\u001b[0;34m)\u001b[0m\u001b[0;34m\u001b[0m\u001b[0;34m\u001b[0m\u001b[0m\n\u001b[0m\u001b[1;32m      9\u001b[0m     \u001b[0mlatent_layer\u001b[0m \u001b[0;34m=\u001b[0m \u001b[0mround\u001b[0m\u001b[0;34m(\u001b[0m\u001b[0mlatent_rate\u001b[0m \u001b[0;34m*\u001b[0m \u001b[0mtrn\u001b[0m\u001b[0;34m.\u001b[0m\u001b[0mshape\u001b[0m\u001b[0;34m[\u001b[0m\u001b[0;36m1\u001b[0m\u001b[0;34m]\u001b[0m\u001b[0;34m)\u001b[0m\u001b[0;34m\u001b[0m\u001b[0;34m\u001b[0m\u001b[0m\n\u001b[1;32m     10\u001b[0m     \u001b[0mdiscrete_columns\u001b[0m \u001b[0;34m=\u001b[0m \u001b[0mtrn\u001b[0m\u001b[0;34m.\u001b[0m\u001b[0mcolumns\u001b[0m\u001b[0;34m[\u001b[0m\u001b[0mtrn\u001b[0m\u001b[0;34m.\u001b[0m\u001b[0mdtypes\u001b[0m \u001b[0;34m==\u001b[0m \u001b[0;34m'object'\u001b[0m\u001b[0;34m]\u001b[0m\u001b[0;34m\u001b[0m\u001b[0;34m\u001b[0m\u001b[0m\n",
      "\u001b[0;32m/usr/local/lib/python3.11/dist-packages/pandas/core/frame.py\u001b[0m in \u001b[0;36m__getitem__\u001b[0;34m(self, key)\u001b[0m\n\u001b[1;32m   4100\u001b[0m             \u001b[0;32mif\u001b[0m \u001b[0mself\u001b[0m\u001b[0;34m.\u001b[0m\u001b[0mcolumns\u001b[0m\u001b[0;34m.\u001b[0m\u001b[0mnlevels\u001b[0m \u001b[0;34m>\u001b[0m \u001b[0;36m1\u001b[0m\u001b[0;34m:\u001b[0m\u001b[0;34m\u001b[0m\u001b[0;34m\u001b[0m\u001b[0m\n\u001b[1;32m   4101\u001b[0m                 \u001b[0;32mreturn\u001b[0m \u001b[0mself\u001b[0m\u001b[0;34m.\u001b[0m\u001b[0m_getitem_multilevel\u001b[0m\u001b[0;34m(\u001b[0m\u001b[0mkey\u001b[0m\u001b[0;34m)\u001b[0m\u001b[0;34m\u001b[0m\u001b[0;34m\u001b[0m\u001b[0m\n\u001b[0;32m-> 4102\u001b[0;31m             \u001b[0mindexer\u001b[0m \u001b[0;34m=\u001b[0m \u001b[0mself\u001b[0m\u001b[0;34m.\u001b[0m\u001b[0mcolumns\u001b[0m\u001b[0;34m.\u001b[0m\u001b[0mget_loc\u001b[0m\u001b[0;34m(\u001b[0m\u001b[0mkey\u001b[0m\u001b[0;34m)\u001b[0m\u001b[0;34m\u001b[0m\u001b[0;34m\u001b[0m\u001b[0m\n\u001b[0m\u001b[1;32m   4103\u001b[0m             \u001b[0;32mif\u001b[0m \u001b[0mis_integer\u001b[0m\u001b[0;34m(\u001b[0m\u001b[0mindexer\u001b[0m\u001b[0;34m)\u001b[0m\u001b[0;34m:\u001b[0m\u001b[0;34m\u001b[0m\u001b[0;34m\u001b[0m\u001b[0m\n\u001b[1;32m   4104\u001b[0m                 \u001b[0mindexer\u001b[0m \u001b[0;34m=\u001b[0m \u001b[0;34m[\u001b[0m\u001b[0mindexer\u001b[0m\u001b[0;34m]\u001b[0m\u001b[0;34m\u001b[0m\u001b[0;34m\u001b[0m\u001b[0m\n",
      "\u001b[0;32m/usr/local/lib/python3.11/dist-packages/pandas/core/indexes/base.py\u001b[0m in \u001b[0;36mget_loc\u001b[0;34m(self, key)\u001b[0m\n\u001b[1;32m   3810\u001b[0m             ):\n\u001b[1;32m   3811\u001b[0m                 \u001b[0;32mraise\u001b[0m \u001b[0mInvalidIndexError\u001b[0m\u001b[0;34m(\u001b[0m\u001b[0mkey\u001b[0m\u001b[0;34m)\u001b[0m\u001b[0;34m\u001b[0m\u001b[0;34m\u001b[0m\u001b[0m\n\u001b[0;32m-> 3812\u001b[0;31m             \u001b[0;32mraise\u001b[0m \u001b[0mKeyError\u001b[0m\u001b[0;34m(\u001b[0m\u001b[0mkey\u001b[0m\u001b[0;34m)\u001b[0m \u001b[0;32mfrom\u001b[0m \u001b[0merr\u001b[0m\u001b[0;34m\u001b[0m\u001b[0;34m\u001b[0m\u001b[0m\n\u001b[0m\u001b[1;32m   3813\u001b[0m         \u001b[0;32mexcept\u001b[0m \u001b[0mTypeError\u001b[0m\u001b[0;34m:\u001b[0m\u001b[0;34m\u001b[0m\u001b[0;34m\u001b[0m\u001b[0m\n\u001b[1;32m   3814\u001b[0m             \u001b[0;31m# If we have a listlike key, _check_indexing_error will raise\u001b[0m\u001b[0;34m\u001b[0m\u001b[0;34m\u001b[0m\u001b[0m\n",
      "\u001b[0;31mKeyError\u001b[0m: 'y'"
     ]
    }
   ],
   "source": [
    "for compression in compressions:\n",
    "    tvae('adult', latent_rate = compression, drop_index=False)"
   ]
  },
  {
   "cell_type": "code",
   "execution_count": 5,
   "id": "HInLRwt_zhh4",
   "metadata": {
    "colab": {
     "base_uri": "https://localhost:8080/",
     "height": 365
    },
    "executionInfo": {
     "elapsed": 29742,
     "status": "error",
     "timestamp": 1745340544277,
     "user": {
      "displayName": "Binh Vu Duc",
      "userId": "00540030101233471776"
     },
     "user_tz": -60
    },
    "id": "HInLRwt_zhh4",
    "outputId": "f0924aba-8273-49da-a66a-d617ad624e7a"
   },
   "outputs": [
    {
     "name": "stdout",
     "output_type": "stream",
     "text": [
      "Finished banknote\n",
      "Finished banknote\n",
      "Finished banknote\n",
      "Finished banknote\n"
     ]
    }
   ],
   "source": [
    "for compression in [0.7, 0.8, 0.9, 1]:\n",
    "    tvae('banknote', latent_rate = compression)"
   ]
  },
  {
   "cell_type": "code",
   "execution_count": null,
   "id": "gQD_TJlTzjJo",
   "metadata": {
    "executionInfo": {
     "elapsed": 1,
     "status": "aborted",
     "timestamp": 1745340544282,
     "user": {
      "displayName": "Binh Vu Duc",
      "userId": "00540030101233471776"
     },
     "user_tz": -60
    },
    "id": "gQD_TJlTzjJo"
   },
   "outputs": [],
   "source": [
    "for compression in compressions:\n",
    "    tvae('bc', latent_rate = compression)"
   ]
  },
  {
   "cell_type": "code",
   "execution_count": null,
   "id": "BPN_7c8xzk3P",
   "metadata": {
    "executionInfo": {
     "elapsed": 1,
     "status": "aborted",
     "timestamp": 1745340544288,
     "user": {
      "displayName": "Binh Vu Duc",
      "userId": "00540030101233471776"
     },
     "user_tz": -60
    },
    "id": "BPN_7c8xzk3P"
   },
   "outputs": [],
   "source": [
    "for compression in compressions:\n",
    "    tvae('car', latent_rate = compression)"
   ]
  },
  {
   "cell_type": "code",
   "execution_count": null,
   "id": "OYVjr5Lizl4Y",
   "metadata": {
    "id": "OYVjr5Lizl4Y"
   },
   "outputs": [],
   "source": [
    "for compression in compressions:\n",
    "    tvae('churn', latent_rate = compression)"
   ]
  },
  {
   "cell_type": "code",
   "execution_count": null,
   "id": "FFhhTNWVznQJ",
   "metadata": {
    "id": "FFhhTNWVznQJ"
   },
   "outputs": [],
   "source": [
    "for compression in compressions:\n",
    "    tvae('credit', latent_rate = compression)"
   ]
  },
  {
   "cell_type": "code",
   "execution_count": null,
   "id": "rt4MYT4Fzpwr",
   "metadata": {
    "id": "rt4MYT4Fzpwr"
   },
   "outputs": [],
   "source": [
    "for compression in compressions:\n",
    "    tvae('diabetes', latent_rate = compression)"
   ]
  },
  {
   "cell_type": "code",
   "execution_count": null,
   "id": "HruGAOA0zrSd",
   "metadata": {
    "id": "HruGAOA0zrSd"
   },
   "outputs": [],
   "source": [
    "for compression in compressions:\n",
    "    tvae('dry_bean', latent_rate = compression)"
   ]
  },
  {
   "cell_type": "code",
   "execution_count": null,
   "id": "n8mTmFD5zuto",
   "metadata": {
    "id": "n8mTmFD5zuto"
   },
   "outputs": [],
   "source": [
    "for compression in compressions:\n",
    "    tvae('forestfires', latent_rate = compression)"
   ]
  },
  {
   "cell_type": "code",
   "execution_count": null,
   "id": "gZcI32qmzxdX",
   "metadata": {
    "id": "gZcI32qmzxdX"
   },
   "outputs": [],
   "source": [
    "for compression in compressions:\n",
    "    tvae('hd', latent_rate = compression)"
   ]
  },
  {
   "cell_type": "code",
   "execution_count": null,
   "id": "Ylygf2qbzzMH",
   "metadata": {
    "id": "Ylygf2qbzzMH"
   },
   "outputs": [],
   "source": [
    "for compression in compressions:\n",
    "    tvae('king', latent_rate = compression)"
   ]
  },
  {
   "cell_type": "code",
   "execution_count": null,
   "id": "oIZ3U2lEz093",
   "metadata": {
    "id": "oIZ3U2lEz093"
   },
   "outputs": [],
   "source": [
    "for compression in compressions:\n",
    "    tvae('marketing', latent_rate = compression)"
   ]
  },
  {
   "cell_type": "code",
   "execution_count": null,
   "id": "qpLYcokJz21p",
   "metadata": {
    "id": "qpLYcokJz21p"
   },
   "outputs": [],
   "source": [
    "for compression in compressions:\n",
    "    tvae('mushroom', latent_rate = compression)"
   ]
  },
  {
   "cell_type": "code",
   "execution_count": null,
   "id": "cz2jJalFz4e5",
   "metadata": {
    "id": "cz2jJalFz4e5"
   },
   "outputs": [],
   "source": [
    "for compression in compressions:\n",
    "    tvae('obesity', latent_rate = compression)"
   ]
  },
  {
   "cell_type": "code",
   "execution_count": null,
   "id": "aRD1M07mz6eX",
   "metadata": {
    "id": "aRD1M07mz6eX"
   },
   "outputs": [],
   "source": [
    "for compression in compressions:\n",
    "    tvae('plpn', latent_rate = compression)"
   ]
  },
  {
   "cell_type": "code",
   "execution_count": null,
   "id": "_jByJSmS0ATo",
   "metadata": {
    "id": "_jByJSmS0ATo"
   },
   "outputs": [],
   "source": [
    "for compression in compressions:\n",
    "    tvae('sick', latent_rate = compression)"
   ]
  },
  {
   "cell_type": "code",
   "execution_count": null,
   "id": "9ecgJUNw0CPn",
   "metadata": {
    "id": "9ecgJUNw0CPn"
   },
   "outputs": [],
   "source": [
    "for compression in compressions:\n",
    "    tvae('soybean', latent_rate = compression)"
   ]
  },
  {
   "cell_type": "code",
   "execution_count": null,
   "id": "GiBSIBCD0Dz3",
   "metadata": {
    "id": "GiBSIBCD0Dz3"
   },
   "outputs": [],
   "source": [
    "for compression in compressions:\n",
    "    tvae('spambase', latent_rate = compression)"
   ]
  },
  {
   "cell_type": "code",
   "execution_count": null,
   "id": "FFHxdTxp0F0G",
   "metadata": {
    "id": "FFHxdTxp0F0G"
   },
   "outputs": [],
   "source": [
    "for compression in compressions:\n",
    "    tvae('student', latent_rate = compression)"
   ]
  },
  {
   "cell_type": "code",
   "execution_count": null,
   "id": "zHhBN_WF0HNI",
   "metadata": {
    "id": "zHhBN_WF0HNI"
   },
   "outputs": [],
   "source": [
    "for compression in compressions:\n",
    "    tvae('wq', latent_rate = compression)"
   ]
  }
 ],
 "metadata": {
  "colab": {
   "provenance": []
  },
  "kernelspec": {
   "display_name": "Python 3 (ipykernel)",
   "language": "python",
   "name": "python3"
  },
  "language_info": {
   "codemirror_mode": {
    "name": "ipython",
    "version": 3
   },
   "file_extension": ".py",
   "mimetype": "text/x-python",
   "name": "python",
   "nbconvert_exporter": "python",
   "pygments_lexer": "ipython3",
   "version": "3.9.15"
  }
 },
 "nbformat": 4,
 "nbformat_minor": 5
}
