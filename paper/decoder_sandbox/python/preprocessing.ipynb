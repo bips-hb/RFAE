{
 "cells": [
  {
   "cell_type": "code",
   "execution_count": 1,
   "id": "7b3c8251",
   "metadata": {},
   "outputs": [],
   "source": [
    "import pandas as pd\n",
    "import numpy as np"
   ]
  },
  {
   "cell_type": "code",
   "execution_count": 19,
   "id": "bbca8ab3",
   "metadata": {},
   "outputs": [],
   "source": [
    "car_trn = pd.read_csv(\"car_train.csv\")\n",
    "car_tst = pd.read_csv(\"car_test.csv\")\n",
    "\n",
    "spambase_trn = pd.read_csv('spambase_train.csv')\n",
    "spambase_tst = pd.read_csv('spambase_test.csv')\n",
    "\n",
    "wq_trn = pd.read_csv('wine_quality_train.csv')\n",
    "wq_tst = pd.read_csv('wine_quality_test.csv')\n",
    "\n",
    "adult = pd.read_csv('adult.data', header=None)\n",
    "\n",
    "forest_fires = pd.read_csv('forestfires.csv')\n",
    "\n",
    "mushroom = pd.read_csv('mushroom.data', header=None)\n",
    "\n",
    "obesity = pd.read_csv('obesity.csv')\n",
    "\n",
    "student = pd.read_csv('student-por.csv', sep=';')\n"
   ]
  },
  {
   "cell_type": "code",
   "execution_count": 20,
   "id": "0aa51148",
   "metadata": {},
   "outputs": [],
   "source": [
    "adult.columns = ['age', 'workclass', 'fnlwgt', 'education', 'education-num',\n",
    "            'marital-status', 'occupation','relationship', 'race','sex', \n",
    "                 'capital-gain','capital-loss', 'hours-per-week',\n",
    "            'native-country', 'label']\n"
   ]
  },
  {
   "cell_type": "code",
   "execution_count": 22,
   "id": "d2253645",
   "metadata": {},
   "outputs": [],
   "source": [
    "mushroom.columns = ['classes', 'cap-shape', 'cap-surface',\n",
    "                   'cap-color', 'bruises', 'odor',\n",
    "                   'gill-attachment', 'gill-spacing',\n",
    "                   'gill-size', 'gill-color',\n",
    "                   'stalk-shape', 'stalk-root',\n",
    "                   'stalk-surface-above-ring', 'stalk-surface-below-ring',\n",
    "                   'stalk-color-above-ring', 'stalk-color-below-ring',\n",
    "                   'veil-type', 'veil-color', \n",
    "                   'ring-number', 'ring-type',\n",
    "                   'spore-print-color', 'population', 'habitat']"
   ]
  },
  {
   "cell_type": "code",
   "execution_count": 33,
   "id": "30a2e337",
   "metadata": {},
   "outputs": [],
   "source": [
    "car = pd.concat((car_trn, car_tst))\n",
    "spambase = pd.concat((spambase_trn, spambase_tst))\n",
    "wq = pd.concat((wq_trn, wq_tst))"
   ]
  },
  {
   "cell_type": "code",
   "execution_count": 37,
   "id": "6e1a252a",
   "metadata": {},
   "outputs": [],
   "source": [
    "car.to_csv('car.csv', index=False)\n",
    "spambase.to_csv('spambase.csv', index=False)\n",
    "wq.to_csv('wine_quality.csv', index=False)\n",
    "mushroom.to_csv('mushroom.csv', index=False)\n",
    "adult.to_csv('adult.csv', index=False)\n",
    "student.to_csv('student.csv', index=False)"
   ]
  }
 ],
 "metadata": {
  "kernelspec": {
   "display_name": "Python 3 (ipykernel)",
   "language": "python",
   "name": "python3"
  },
  "language_info": {
   "codemirror_mode": {
    "name": "ipython",
    "version": 3
   },
   "file_extension": ".py",
   "mimetype": "text/x-python",
   "name": "python",
   "nbconvert_exporter": "python",
   "pygments_lexer": "ipython3",
   "version": "3.9.15"
  }
 },
 "nbformat": 4,
 "nbformat_minor": 5
}
